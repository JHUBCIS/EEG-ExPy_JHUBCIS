{
 "cells": [
  {
   "cell_type": "markdown",
   "metadata": {},
   "source": [
    "# offline_experiment_unicorn-clean_data\n",
    "\n",
    "This python notebook is used to clean up and reformat the data generated from Unicorn Recorder when running the experiment from [offline_experiment_unicorn.py](offline_experiment_unicorn.py).\n",
    "\n",
    "The code looks first add column headers to columns for EEG data and stimulation markers as `EEG_Ch1(mV)`,\t`EEG_Ch2(mV)`,\t`EEG_Ch3(mV)`,\t`EEG_Ch4(mV)`,\t`EEG_Ch5(mV)`,\t`EEG_Ch6(mV)`,\t`EEG_Ch7(mV)`,\t`EEG_Ch8(mV)` and `stim` respectively. \n",
    "\n",
    "It then for the small gaps in the `stim` column due to the lag in keyboard input, and creates a new column at the end called `filled_stim`.\n",
    "\n",
    "It is necessary to specify the file path of the original data file, and the output will will be saved under the same directory with the same file name, but with a suffix of `_cleaned`.\n",
    "\n",
    "When decoding, please use the raw EEG channels as input data, and use `filled_stim` as labels."
   ]
  },
  {
   "cell_type": "code",
   "execution_count": 3,
   "metadata": {},
   "outputs": [
    {
     "name": "stdout",
     "output_type": "stream",
     "text": [
      "   EEG_Ch1(mV)  EEG_Ch2(mV)  EEG_Ch3(mV)  EEG_Ch4(mV)  EEG_Ch5(mV)  \\\n",
      "0          0.0          0.0          0.0          0.0          0.0   \n",
      "1          0.0          0.0          0.0          0.0          0.0   \n",
      "2          0.0          0.0          0.0          0.0          0.0   \n",
      "3          0.0          0.0          0.0          0.0          0.0   \n",
      "4          0.0          0.0          0.0          0.0          0.0   \n",
      "\n",
      "   EEG_Ch6(mV)  EEG_Ch7(mV)  EEG_Ch8(mV)                                      \\\n",
      "0          0.0          0.0          0.0  0.052  0.970  0.150  0.0  0.0  0.0   \n",
      "1          0.0          0.0          0.0  0.061  0.995  0.145  0.0  0.0  0.0   \n",
      "2          0.0          0.0          0.0  0.062  1.006  0.142  0.0  0.0  0.0   \n",
      "3          0.0          0.0          0.0  0.067  1.011  0.139  0.0  0.0  0.0   \n",
      "4          0.0          0.0          0.0  0.069  1.011  0.141  0.0  0.0  0.0   \n",
      "\n",
      "                         stim  \n",
      "0  1  93.333  1   0.000     0  \n",
      "1  2  93.333  1  14.298     0  \n",
      "2  3  93.333  1   2.467     0  \n",
      "3  4  93.333  1  10.010     0  \n",
      "4  5  93.333  1   4.989     0  \n"
     ]
    }
   ],
   "source": [
    "import pandas as pd\n",
    "import numpy as np\n",
    "from datetime import datetime\n",
    "import matplotlib.pyplot as plt\n",
    "\n",
    "file_path = r\"~\\Downloads\\Katie_7-10_EEG.csv\"\n",
    "df = pd.read_csv(file_path,header=None)\n",
    "\n",
    "num_columns = df.shape[1]\n",
    "col_headers = [\"\" for _ in range(num_columns)]\n",
    "\n",
    "for i in range(num_columns):\n",
    "    if  i < 8: col_headers[i] = f\"EEG_Ch{i+1}(mV)\"\n",
    "    if i == num_columns-1: col_headers[i] = \"stim\"\n",
    "\n",
    "df.columns = col_headers\n",
    "\n",
    "print(df.head())"
   ]
  },
  {
   "cell_type": "code",
   "execution_count": 4,
   "metadata": {},
   "outputs": [
    {
     "name": "stdout",
     "output_type": "stream",
     "text": [
      "   EEG_Ch1(mV)  EEG_Ch2(mV)  EEG_Ch3(mV)  EEG_Ch4(mV)  EEG_Ch5(mV)  \\\n",
      "0          0.0          0.0          0.0          0.0          0.0   \n",
      "1          0.0          0.0          0.0          0.0          0.0   \n",
      "2          0.0          0.0          0.0          0.0          0.0   \n",
      "3          0.0          0.0          0.0          0.0          0.0   \n",
      "4          0.0          0.0          0.0          0.0          0.0   \n",
      "\n",
      "   EEG_Ch6(mV)  EEG_Ch7(mV)  EEG_Ch8(mV)                                      \\\n",
      "0          0.0          0.0          0.0  0.052  0.970  0.150  0.0  0.0  0.0   \n",
      "1          0.0          0.0          0.0  0.061  0.995  0.145  0.0  0.0  0.0   \n",
      "2          0.0          0.0          0.0  0.062  1.006  0.142  0.0  0.0  0.0   \n",
      "3          0.0          0.0          0.0  0.067  1.011  0.139  0.0  0.0  0.0   \n",
      "4          0.0          0.0          0.0  0.069  1.011  0.141  0.0  0.0  0.0   \n",
      "\n",
      "                         stim  \n",
      "0  1  93.333  1   0.000     0  \n",
      "1  2  93.333  1  14.298     0  \n",
      "2  3  93.333  1   2.467     0  \n",
      "3  4  93.333  1  10.010     0  \n",
      "4  5  93.333  1   4.989     0  \n",
      "Reformatted data saved to ~\\Downloads\\Katie_7-10_EEG_cleaned.csv\n"
     ]
    }
   ],
   "source": [
    "def fill_gaps(series):\n",
    "    result = series.copy()\n",
    "    non_zero_idx = np.where(series != 0)[0]\n",
    "\n",
    "    for i in range(len(non_zero_idx) -1 ):\n",
    "        start_idx = non_zero_idx[i]\n",
    "        end_idx = non_zero_idx[i+1]\n",
    "        if series[end_idx] == 9:\n",
    "            result[start_idx:end_idx+1] = series[start_idx]\n",
    "    return result\n",
    "\n",
    "df['stim'] = fill_gaps(df['stim'])\n",
    "\n",
    "print(df.head())\n",
    "\n",
    "file_path_parts = file_path.rsplit('.', 1)\n",
    "new_file_path = file_path_parts[0] + '_cleaned.' + file_path_parts[1]\n",
    "df.to_csv(new_file_path) \n",
    "\n",
    "print(f\"Reformatted data saved to {new_file_path}\")"
   ]
  }
 ],
 "metadata": {
  "kernelspec": {
   "display_name": "Python 3",
   "language": "python",
   "name": "python3"
  },
  "language_info": {
   "codemirror_mode": {
    "name": "ipython",
    "version": 3
   },
   "file_extension": ".py",
   "mimetype": "text/x-python",
   "name": "python",
   "nbconvert_exporter": "python",
   "pygments_lexer": "ipython3",
   "version": "3.9.19"
  }
 },
 "nbformat": 4,
 "nbformat_minor": 2
}
