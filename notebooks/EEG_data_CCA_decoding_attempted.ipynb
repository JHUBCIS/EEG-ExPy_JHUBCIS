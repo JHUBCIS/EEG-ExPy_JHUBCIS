{
 "cells": [
  {
   "cell_type": "code",
   "execution_count": 1,
   "metadata": {},
   "outputs": [],
   "source": [
    "import pandas as pd\n",
    "import matplotlib.pyplot as plt\n",
    "import numpy as np\n",
    "from scipy.signal import sosfilt, butter\n",
    "from sklearn.cross_decomposition import CCA"
   ]
  },
  {
   "cell_type": "code",
   "execution_count": 5,
   "metadata": {},
   "outputs": [],
   "source": [
    "sub = 1 "
   ]
  },
  {
   "cell_type": "code",
   "execution_count": 6,
   "metadata": {},
   "outputs": [],
   "source": [
    "clean_eeg_df = pd.read_csv(f'../data/sub0{sub}_eeg_clean.csv')\n",
    "noisy_eeg_df = pd.read_csv(f'../data/sub0{sub}_eeg_noisy.csv')\n",
    "ssvep_eeg_df = pd.read_csv(f'../data/sub0{sub}_eeg_ssvep.csv')"
   ]
  },
  {
   "cell_type": "markdown",
   "metadata": {},
   "source": [
    "# Okay we are making some BOLD ASSUMPTIONS RN:\n",
    " - ALL THAT ALL THE CHANNELS ARE VALID AND CORRESPOND TO VISUAL STIMULI\n",
    "- That (ssvep_eeg_df.to_numpy[:, a]) indicates channel -> a\n",
    "# and that's about it"
   ]
  },
  {
   "cell_type": "code",
   "execution_count": 7,
   "metadata": {},
   "outputs": [
    {
     "data": {
      "text/plain": [
       "Text(0, 0.5, 'mV')"
      ]
     },
     "execution_count": 7,
     "metadata": {},
     "output_type": "execute_result"
    },
    {
     "data": {
      "image/png": "[encoded data removed]",
      "text/plain": [
       "<Figure size 432x288 with 1 Axes>"
      ]
     },
     "metadata": {
      "needs_background": "light"
     },
     "output_type": "display_data"
    }
   ],
   "source": [
    "plt.plot(ssvep_eeg_df.to_numpy()[:,4])\n",
    "plt.xlabel('Time')\n",
    "plt.ylabel('mV')\n"
   ]
  },
  {
   "cell_type": "code",
   "execution_count": 17,
   "metadata": {},
   "outputs": [
    {
     "name": "stdout",
     "output_type": "stream",
     "text": [
      "(31259, 10)\n"
     ]
    }
   ],
   "source": [
    "np_arr_channels = ssvep_eeg_df.to_numpy()\n",
    "print(np_arr_channels.shape)\n",
    "\n",
    "# not 0 indexed <- 1 indexed\n",
    "num_channels = np_arr_channels.shape[1] - 2"
   ]
  },
  {
   "cell_type": "code",
   "execution_count": 55,
   "metadata": {},
   "outputs": [],
   "source": [
    "# collect all channels into a list\n",
    "\n",
    "channel_signals = [np_arr_channels[:,x] for x in range(1, num_channels + 1)]"
   ]
  },
  {
   "cell_type": "code",
   "execution_count": 56,
   "metadata": {},
   "outputs": [],
   "source": [
    "# figure out time duration between each sample\n",
    "python_time_channel = np_arr_channels[:,0]\n",
    "time_channel = [python_time_channel[x] - python_time_channel[x-1] for x in range(1, len(python_time_channel))]\n",
    "\n",
    "# average time duration\n",
    "avg_time = np.mean(time_channel)\n",
    "\n",
    "# above is average seconds per sample\n",
    "# number of avg time per second is\n",
    "avg_time_per_second = 1/avg_time"
   ]
  },
  {
   "cell_type": "code",
   "execution_count": 57,
   "metadata": {},
   "outputs": [],
   "source": [
    "# create duration of channels var\n",
    "duration = np_arr_channels.shape[0]"
   ]
  },
  {
   "cell_type": "code",
   "execution_count": 89,
   "metadata": {},
   "outputs": [],
   "source": [
    "\n",
    "# create time array\n",
    "time_arr = np.arange(0, duration).astype(float)\n",
    "\n",
    "# goofy AAAA code -> probably could do wit linspace\n",
    "for i in range(time_arr.shape[0]):\n",
    "    if (i == 0):\n",
    "        time_arr[i] = 0\n",
    "    else:\n",
    "        time_arr[i] = time_arr[i-1] + avg_time\n",
    "\n",
    "\n",
    "# create a 7hz signal\n",
    "seven_hz_signal = np.sin(2 * np.pi * 7 * time_arr / avg_time_per_second)\n",
    "\n",
    "# create a 21hz signal\n",
    "twentyone_hz_signal = np.sin(2 * np.pi * 21 * time_arr / avg_time_per_second)"
   ]
  },
  {
   "cell_type": "code",
   "execution_count": 87,
   "metadata": {},
   "outputs": [],
   "source": [
    "\n",
    "\n",
    "# Generate scores for the 7hz & 21hz signal\n",
    "\n",
    "seven_hz_scores = []\n",
    "twenty_one_hz_scores = []\n",
    "\n",
    "\n",
    "for channel_num, hz_channel in enumerate([seven_hz_signal, twentyone_hz_signal]):\n",
    "    for channel in channel_signals:\n",
    "        cca = CCA(n_components=1)\n",
    "        cca.fit(channel.reshape(-1, 1), hz_channel.reshape(-1, 1))\n",
    "        \n",
    "        if (channel_num == 0):\n",
    "            seven_hz_scores.append(cca.score(channel.reshape(-1, 1), hz_channel.reshape(-1, 1)))\n",
    "        else:\n",
    "            twenty_one_hz_scores.append(cca.score(channel.reshape(-1, 1), hz_channel.reshape(-1, 1)))\n",
    "\n",
    "# TODO: figure out what n_components does\n",
    "    "
   ]
  },
  {
   "cell_type": "code",
   "execution_count": 88,
   "metadata": {},
   "outputs": [
    {
     "name": "stdout",
     "output_type": "stream",
     "text": [
      "[1.0, -0.9665116194874761, -0.860989310217577, -0.8567554288744075, -0.8639246413160548, -0.7781675343795724, -0.9389660833094327, -0.9022546497215278]\n",
      "[-0.9888680453620415, -0.9543523031570578, -0.9461307979268938, -0.9450941542194979, -0.9728376635335176, -0.8647310003713673, -0.9793992243620313, -0.9342898299659261]\n"
     ]
    }
   ],
   "source": [
    "print(seven_hz_scores)\n",
    "print(twenty_one_hz_scores)"
   ]
  },
  {
   "cell_type": "code",
   "execution_count": null,
   "metadata": {},
   "outputs": [],
   "source": []
  },
  {
   "cell_type": "code",
   "execution_count": null,
   "metadata": {},
   "outputs": [],
   "source": []
  }
 ],
 "metadata": {
  "kernelspec": {
   "display_name": "BCIS",
   "language": "python",
   "name": "python3"
  },
  "language_info": {
   "codemirror_mode": {
    "name": "ipython",
    "version": 3
   },
   "file_extension": ".py",
   "mimetype": "text/x-python",
   "name": "python",
   "nbconvert_exporter": "python",
   "pygments_lexer": "ipython3",
   "version": "3.10.2"
  }
 },
 "nbformat": 4,
 "nbformat_minor": 2
}
