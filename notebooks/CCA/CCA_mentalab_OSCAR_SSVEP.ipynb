{
 "cells": [
  {
   "cell_type": "markdown",
   "metadata": {},
   "source": [
    "# Import Libraries & Data"
   ]
  },
  {
   "cell_type": "code",
   "execution_count": 1,
   "metadata": {},
   "outputs": [],
   "source": [
    "import numpy as np\n",
    "import pandas as pd\n",
    "from sklearn.cross_decomposition import CCA\n",
    "from scipy import signal\n",
    "import mne\n",
    "import matplotlib.pyplot as plt"
   ]
  },
  {
   "cell_type": "code",
   "execution_count": 37,
   "metadata": {},
   "outputs": [],
   "source": [
    "# data_path = '../../data/Katie_7-14_EEG_nofilter_cleaned.csv'\n",
    "# data_path = '../../data/Katie_7_14_EEG_0.1_50HzBandpass_60HzNotch_cleaned.csv'\n",
    "data_path = '../../data/Alex_7-14_EEG_OSCAR_cleaned.csv'\n",
    "df = pd.read_csv(data_path)"
   ]
  },
  {
   "cell_type": "code",
   "execution_count": 38,
   "metadata": {},
   "outputs": [
    {
     "data": {
      "text/html": [
       "<div>\n",
       "<style scoped>\n",
       "    .dataframe tbody tr th:only-of-type {\n",
       "        vertical-align: middle;\n",
       "    }\n",
       "\n",
       "    .dataframe tbody tr th {\n",
       "        vertical-align: top;\n",
       "    }\n",
       "\n",
       "    .dataframe thead th {\n",
       "        text-align: right;\n",
       "    }\n",
       "</style>\n",
       "<table border=\"1\" class=\"dataframe\">\n",
       "  <thead>\n",
       "    <tr style=\"text-align: right;\">\n",
       "      <th></th>\n",
       "      <th>Unnamed: 0</th>\n",
       "      <th>EEG_Ch1(mV)</th>\n",
       "      <th>EEG_Ch2(mV)</th>\n",
       "      <th>EEG_Ch3(mV)</th>\n",
       "      <th>EEG_Ch4(mV)</th>\n",
       "      <th>EEG_Ch5(mV)</th>\n",
       "      <th>EEG_Ch6(mV)</th>\n",
       "      <th>EEG_Ch7(mV)</th>\n",
       "      <th>EEG_Ch8(mV)</th>\n",
       "      <th>Unnamed: 9</th>\n",
       "      <th>Unnamed: 10</th>\n",
       "      <th>Unnamed: 11</th>\n",
       "      <th>Unnamed: 12</th>\n",
       "      <th>Unnamed: 13</th>\n",
       "      <th>Unnamed: 14</th>\n",
       "      <th>Unnamed: 15</th>\n",
       "      <th>Unnamed: 16</th>\n",
       "      <th>Unnamed: 17</th>\n",
       "      <th>Unnamed: 18</th>\n",
       "      <th>stim</th>\n",
       "    </tr>\n",
       "  </thead>\n",
       "  <tbody>\n",
       "    <tr>\n",
       "      <th>0</th>\n",
       "      <td>0</td>\n",
       "      <td>0.000</td>\n",
       "      <td>0.000</td>\n",
       "      <td>0.000</td>\n",
       "      <td>0.000</td>\n",
       "      <td>0.000</td>\n",
       "      <td>0.000</td>\n",
       "      <td>0.000</td>\n",
       "      <td>0.000</td>\n",
       "      <td>-0.010</td>\n",
       "      <td>0.951</td>\n",
       "      <td>-0.193</td>\n",
       "      <td>0.000</td>\n",
       "      <td>0.000</td>\n",
       "      <td>0.000</td>\n",
       "      <td>1.0</td>\n",
       "      <td>86.667</td>\n",
       "      <td>1.0</td>\n",
       "      <td>0.000</td>\n",
       "      <td>0.0</td>\n",
       "    </tr>\n",
       "    <tr>\n",
       "      <th>1</th>\n",
       "      <td>1</td>\n",
       "      <td>0.000</td>\n",
       "      <td>0.000</td>\n",
       "      <td>0.000</td>\n",
       "      <td>0.000</td>\n",
       "      <td>0.000</td>\n",
       "      <td>0.000</td>\n",
       "      <td>0.000</td>\n",
       "      <td>0.000</td>\n",
       "      <td>-0.001</td>\n",
       "      <td>0.976</td>\n",
       "      <td>-0.207</td>\n",
       "      <td>0.000</td>\n",
       "      <td>0.000</td>\n",
       "      <td>0.000</td>\n",
       "      <td>2.0</td>\n",
       "      <td>86.667</td>\n",
       "      <td>1.0</td>\n",
       "      <td>9.317</td>\n",
       "      <td>0.0</td>\n",
       "    </tr>\n",
       "    <tr>\n",
       "      <th>2</th>\n",
       "      <td>2</td>\n",
       "      <td>0.000</td>\n",
       "      <td>0.000</td>\n",
       "      <td>0.000</td>\n",
       "      <td>0.000</td>\n",
       "      <td>0.000</td>\n",
       "      <td>0.000</td>\n",
       "      <td>0.000</td>\n",
       "      <td>0.000</td>\n",
       "      <td>0.004</td>\n",
       "      <td>0.984</td>\n",
       "      <td>-0.207</td>\n",
       "      <td>0.000</td>\n",
       "      <td>0.000</td>\n",
       "      <td>0.000</td>\n",
       "      <td>3.0</td>\n",
       "      <td>86.667</td>\n",
       "      <td>1.0</td>\n",
       "      <td>4.313</td>\n",
       "      <td>0.0</td>\n",
       "    </tr>\n",
       "    <tr>\n",
       "      <th>3</th>\n",
       "      <td>3</td>\n",
       "      <td>0.000</td>\n",
       "      <td>0.000</td>\n",
       "      <td>0.000</td>\n",
       "      <td>0.000</td>\n",
       "      <td>0.000</td>\n",
       "      <td>0.000</td>\n",
       "      <td>0.000</td>\n",
       "      <td>0.000</td>\n",
       "      <td>0.003</td>\n",
       "      <td>0.988</td>\n",
       "      <td>-0.207</td>\n",
       "      <td>0.000</td>\n",
       "      <td>0.000</td>\n",
       "      <td>0.000</td>\n",
       "      <td>4.0</td>\n",
       "      <td>86.667</td>\n",
       "      <td>1.0</td>\n",
       "      <td>0.007</td>\n",
       "      <td>0.0</td>\n",
       "    </tr>\n",
       "    <tr>\n",
       "      <th>4</th>\n",
       "      <td>4</td>\n",
       "      <td>0.000</td>\n",
       "      <td>0.000</td>\n",
       "      <td>0.000</td>\n",
       "      <td>0.000</td>\n",
       "      <td>0.000</td>\n",
       "      <td>0.000</td>\n",
       "      <td>0.000</td>\n",
       "      <td>0.000</td>\n",
       "      <td>0.002</td>\n",
       "      <td>0.992</td>\n",
       "      <td>-0.206</td>\n",
       "      <td>0.000</td>\n",
       "      <td>0.000</td>\n",
       "      <td>0.000</td>\n",
       "      <td>5.0</td>\n",
       "      <td>86.667</td>\n",
       "      <td>1.0</td>\n",
       "      <td>1.922</td>\n",
       "      <td>0.0</td>\n",
       "    </tr>\n",
       "    <tr>\n",
       "      <th>...</th>\n",
       "      <td>...</td>\n",
       "      <td>...</td>\n",
       "      <td>...</td>\n",
       "      <td>...</td>\n",
       "      <td>...</td>\n",
       "      <td>...</td>\n",
       "      <td>...</td>\n",
       "      <td>...</td>\n",
       "      <td>...</td>\n",
       "      <td>...</td>\n",
       "      <td>...</td>\n",
       "      <td>...</td>\n",
       "      <td>...</td>\n",
       "      <td>...</td>\n",
       "      <td>...</td>\n",
       "      <td>...</td>\n",
       "      <td>...</td>\n",
       "      <td>...</td>\n",
       "      <td>...</td>\n",
       "      <td>...</td>\n",
       "    </tr>\n",
       "    <tr>\n",
       "      <th>260438</th>\n",
       "      <td>260438</td>\n",
       "      <td>-1.878</td>\n",
       "      <td>-0.500</td>\n",
       "      <td>0.970</td>\n",
       "      <td>-3.123</td>\n",
       "      <td>5.850</td>\n",
       "      <td>16.104</td>\n",
       "      <td>4.656</td>\n",
       "      <td>2.176</td>\n",
       "      <td>0.000</td>\n",
       "      <td>1.012</td>\n",
       "      <td>-0.002</td>\n",
       "      <td>-0.092</td>\n",
       "      <td>1.740</td>\n",
       "      <td>0.946</td>\n",
       "      <td>260439.0</td>\n",
       "      <td>80.000</td>\n",
       "      <td>1.0</td>\n",
       "      <td>0.020</td>\n",
       "      <td>0.0</td>\n",
       "    </tr>\n",
       "    <tr>\n",
       "      <th>260439</th>\n",
       "      <td>260439</td>\n",
       "      <td>1.011</td>\n",
       "      <td>-0.773</td>\n",
       "      <td>3.079</td>\n",
       "      <td>-4.195</td>\n",
       "      <td>4.382</td>\n",
       "      <td>16.089</td>\n",
       "      <td>6.674</td>\n",
       "      <td>3.869</td>\n",
       "      <td>0.001</td>\n",
       "      <td>1.012</td>\n",
       "      <td>-0.003</td>\n",
       "      <td>-0.122</td>\n",
       "      <td>1.587</td>\n",
       "      <td>0.977</td>\n",
       "      <td>260440.0</td>\n",
       "      <td>80.000</td>\n",
       "      <td>1.0</td>\n",
       "      <td>1.877</td>\n",
       "      <td>0.0</td>\n",
       "    </tr>\n",
       "    <tr>\n",
       "      <th>260440</th>\n",
       "      <td>260440</td>\n",
       "      <td>3.901</td>\n",
       "      <td>-1.442</td>\n",
       "      <td>4.120</td>\n",
       "      <td>-4.205</td>\n",
       "      <td>2.913</td>\n",
       "      <td>15.201</td>\n",
       "      <td>9.579</td>\n",
       "      <td>4.187</td>\n",
       "      <td>0.001</td>\n",
       "      <td>1.011</td>\n",
       "      <td>-0.003</td>\n",
       "      <td>-0.092</td>\n",
       "      <td>1.556</td>\n",
       "      <td>1.038</td>\n",
       "      <td>260441.0</td>\n",
       "      <td>80.000</td>\n",
       "      <td>1.0</td>\n",
       "      <td>10.576</td>\n",
       "      <td>0.0</td>\n",
       "    </tr>\n",
       "    <tr>\n",
       "      <th>260441</th>\n",
       "      <td>260441</td>\n",
       "      <td>6.163</td>\n",
       "      <td>-2.557</td>\n",
       "      <td>3.735</td>\n",
       "      <td>-3.402</td>\n",
       "      <td>1.933</td>\n",
       "      <td>13.590</td>\n",
       "      <td>12.690</td>\n",
       "      <td>2.924</td>\n",
       "      <td>0.000</td>\n",
       "      <td>1.011</td>\n",
       "      <td>-0.002</td>\n",
       "      <td>-0.214</td>\n",
       "      <td>1.617</td>\n",
       "      <td>0.946</td>\n",
       "      <td>260442.0</td>\n",
       "      <td>80.000</td>\n",
       "      <td>1.0</td>\n",
       "      <td>0.011</td>\n",
       "      <td>0.0</td>\n",
       "    </tr>\n",
       "    <tr>\n",
       "      <th>260442</th>\n",
       "      <td>260442</td>\n",
       "      <td>7.319</td>\n",
       "      <td>-3.806</td>\n",
       "      <td>2.182</td>\n",
       "      <td>-2.515</td>\n",
       "      <td>1.312</td>\n",
       "      <td>11.612</td>\n",
       "      <td>15.431</td>\n",
       "      <td>0.701</td>\n",
       "      <td>-0.001</td>\n",
       "      <td>1.009</td>\n",
       "      <td>-0.001</td>\n",
       "      <td>-0.244</td>\n",
       "      <td>1.587</td>\n",
       "      <td>0.977</td>\n",
       "      <td>260443.0</td>\n",
       "      <td>80.000</td>\n",
       "      <td>1.0</td>\n",
       "      <td>2.464</td>\n",
       "      <td>0.0</td>\n",
       "    </tr>\n",
       "  </tbody>\n",
       "</table>\n",
       "<p>260443 rows × 20 columns</p>\n",
       "</div>"
      ],
      "text/plain": [
       "        Unnamed: 0  EEG_Ch1(mV)  EEG_Ch2(mV)  EEG_Ch3(mV)  EEG_Ch4(mV)  \\\n",
       "0                0        0.000        0.000        0.000        0.000   \n",
       "1                1        0.000        0.000        0.000        0.000   \n",
       "2                2        0.000        0.000        0.000        0.000   \n",
       "3                3        0.000        0.000        0.000        0.000   \n",
       "4                4        0.000        0.000        0.000        0.000   \n",
       "...            ...          ...          ...          ...          ...   \n",
       "260438      260438       -1.878       -0.500        0.970       -3.123   \n",
       "260439      260439        1.011       -0.773        3.079       -4.195   \n",
       "260440      260440        3.901       -1.442        4.120       -4.205   \n",
       "260441      260441        6.163       -2.557        3.735       -3.402   \n",
       "260442      260442        7.319       -3.806        2.182       -2.515   \n",
       "\n",
       "        EEG_Ch5(mV)  EEG_Ch6(mV)  EEG_Ch7(mV)  EEG_Ch8(mV)  Unnamed: 9  \\\n",
       "0             0.000        0.000        0.000        0.000      -0.010   \n",
       "1             0.000        0.000        0.000        0.000      -0.001   \n",
       "2             0.000        0.000        0.000        0.000       0.004   \n",
       "3             0.000        0.000        0.000        0.000       0.003   \n",
       "4             0.000        0.000        0.000        0.000       0.002   \n",
       "...             ...          ...          ...          ...         ...   \n",
       "260438        5.850       16.104        4.656        2.176       0.000   \n",
       "260439        4.382       16.089        6.674        3.869       0.001   \n",
       "260440        2.913       15.201        9.579        4.187       0.001   \n",
       "260441        1.933       13.590       12.690        2.924       0.000   \n",
       "260442        1.312       11.612       15.431        0.701      -0.001   \n",
       "\n",
       "        Unnamed: 10  Unnamed: 11  Unnamed: 12  Unnamed: 13  Unnamed: 14  \\\n",
       "0             0.951       -0.193        0.000        0.000        0.000   \n",
       "1             0.976       -0.207        0.000        0.000        0.000   \n",
       "2             0.984       -0.207        0.000        0.000        0.000   \n",
       "3             0.988       -0.207        0.000        0.000        0.000   \n",
       "4             0.992       -0.206        0.000        0.000        0.000   \n",
       "...             ...          ...          ...          ...          ...   \n",
       "260438        1.012       -0.002       -0.092        1.740        0.946   \n",
       "260439        1.012       -0.003       -0.122        1.587        0.977   \n",
       "260440        1.011       -0.003       -0.092        1.556        1.038   \n",
       "260441        1.011       -0.002       -0.214        1.617        0.946   \n",
       "260442        1.009       -0.001       -0.244        1.587        0.977   \n",
       "\n",
       "        Unnamed: 15  Unnamed: 16  Unnamed: 17  Unnamed: 18  stim  \n",
       "0               1.0       86.667          1.0        0.000   0.0  \n",
       "1               2.0       86.667          1.0        9.317   0.0  \n",
       "2               3.0       86.667          1.0        4.313   0.0  \n",
       "3               4.0       86.667          1.0        0.007   0.0  \n",
       "4               5.0       86.667          1.0        1.922   0.0  \n",
       "...             ...          ...          ...          ...   ...  \n",
       "260438     260439.0       80.000          1.0        0.020   0.0  \n",
       "260439     260440.0       80.000          1.0        1.877   0.0  \n",
       "260440     260441.0       80.000          1.0       10.576   0.0  \n",
       "260441     260442.0       80.000          1.0        0.011   0.0  \n",
       "260442     260443.0       80.000          1.0        2.464   0.0  \n",
       "\n",
       "[260443 rows x 20 columns]"
      ]
     },
     "execution_count": 38,
     "metadata": {},
     "output_type": "execute_result"
    }
   ],
   "source": [
    "df"
   ]
  },
  {
   "cell_type": "code",
   "execution_count": 39,
   "metadata": {},
   "outputs": [],
   "source": [
    "channels = [f\"EEG_Ch{i}(mV)\" for i in range(5, 8)] # Select channels you want\n",
    "eeg_data = df[channels].to_numpy()\n",
    "y = df['stim'].to_numpy()\n",
    "\n",
    "n_channels = eeg_data.shape[1]"
   ]
  },
  {
   "cell_type": "markdown",
   "metadata": {},
   "source": [
    "# Filter Data"
   ]
  },
  {
   "cell_type": "markdown",
   "metadata": {},
   "source": [
    "### MNE"
   ]
  },
  {
   "cell_type": "code",
   "execution_count": 66,
   "metadata": {},
   "outputs": [
    {
     "name": "stderr",
     "output_type": "stream",
     "text": [
      "/tmp/ipykernel_80813/827129882.py:3: RuntimeWarning: Channel names are not unique, found duplicates for: {'EEG'}. Applying running numbers for duplicates.\n",
      "  info = mne.create_info(['EEG' for i in range(eeg_data.shape[1])], sfreq, ch_types='eeg')\n"
     ]
    }
   ],
   "source": [
    "sfreq = 250\n",
    "\n",
    "info = mne.create_info(['EEG' for i in range(eeg_data.shape[1])], sfreq, ch_types='eeg')\n",
    "raw = mne.io.RawArray(eeg_data.T, info)\n",
    "\n",
    "# Apply bandpass filter\n",
    "raw_bandpass = raw.copy().filter(l_freq=0.5, h_freq=50)\n",
    "\n",
    "# Apply notch filter\n",
    "raw_filtered = raw_bandpass.copy().notch_filter(freqs=60)\n",
    "\n",
    "eeg_data = raw_filtered.get_data().T"
   ]
  },
  {
   "cell_type": "markdown",
   "metadata": {},
   "source": [
    "### Scipy"
   ]
  },
  {
   "cell_type": "code",
   "execution_count": 44,
   "metadata": {},
   "outputs": [],
   "source": [
    "# Define filter parameters\n",
    "fs = 250\n",
    "lowcut = 0.5  # Lower frequency of the bandpass\n",
    "highcut = 50  # Upper frequency of the bandpass\n",
    "notch_freq = 60  # Frequency to be removed by notch filter\n",
    "Q = 30  # Quality factor for notch filter"
   ]
  },
  {
   "cell_type": "code",
   "execution_count": 45,
   "metadata": {},
   "outputs": [],
   "source": [
    "# Create bandpass filter\n",
    "def butter_bandpass(lowcut, highcut, fs, order=5):\n",
    "    nyq = 0.5 * fs\n",
    "    low = lowcut / nyq\n",
    "    high = highcut / nyq\n",
    "    b, a = signal.butter(order, [low, high], btype='band')\n",
    "    return b, a"
   ]
  },
  {
   "cell_type": "code",
   "execution_count": 46,
   "metadata": {},
   "outputs": [],
   "source": [
    "# Create notch filter\n",
    "def notch_filter(notch_freq, Q, fs):\n",
    "    b, a = signal.iirnotch(notch_freq, Q, fs)\n",
    "    return b, a"
   ]
  },
  {
   "cell_type": "code",
   "execution_count": 47,
   "metadata": {},
   "outputs": [],
   "source": [
    "# Get filter coefficients\n",
    "b_bandpass, a_bandpass = butter_bandpass(lowcut, highcut, fs)\n",
    "b_notch, a_notch = notch_filter(notch_freq, Q, fs)"
   ]
  },
  {
   "cell_type": "code",
   "execution_count": 50,
   "metadata": {},
   "outputs": [],
   "source": [
    "# Apply filters\n",
    "signal_bandpass = signal.filtfilt(b_bandpass, a_bandpass, eeg_data.T)\n",
    "eeg_data_filtered = signal.filtfilt(b_notch, a_notch, signal_bandpass)"
   ]
  },
  {
   "cell_type": "code",
   "execution_count": 52,
   "metadata": {},
   "outputs": [],
   "source": [
    "eeg_data = eeg_data_filtered.T"
   ]
  },
  {
   "cell_type": "markdown",
   "metadata": {},
   "source": [
    "# Epoch Data & CCA Analysis"
   ]
  },
  {
   "cell_type": "code",
   "execution_count": 67,
   "metadata": {},
   "outputs": [],
   "source": [
    "class CCAAnalysis:\n",
    "    \"\"\"Canonical Correlation Analysis for SSVEP paradigm\"\"\"\n",
    "    def __init__(self, freqs, win_len, s_rate, n_harmonics=1):\n",
    "        \"\"\"\n",
    "        Args:\n",
    "            freqs (list): List of target frequencies\n",
    "            win_len (float): Window length\n",
    "            s_rate (int): Sampling rate of EEG signal\n",
    "            n_harmonics (int): Number of harmonics to be considered\n",
    "        \"\"\"\n",
    "        self.freqs = freqs\n",
    "        self.win_len = win_len\n",
    "        self.s_rate = s_rate\n",
    "        self.n_harmonics = n_harmonics\n",
    "        self.train_data = self._init_train_data()\n",
    "        self.cca = CCA(n_components=1)\n",
    "\n",
    "    def _init_train_data(self):\n",
    "        t_vec = np.linspace(0, self.win_len, int(self.s_rate * self.win_len))\n",
    "        targets = {}\n",
    "        for freq in self.freqs:\n",
    "            sig_sin, sig_cos = [], []\n",
    "            for harmonics in range(self.n_harmonics):\n",
    "                sig_sin.append(np.sin(2 * np.pi * harmonics * freq * t_vec))\n",
    "                sig_cos.append(np.cos(2 * np.pi * harmonics * freq * t_vec))\n",
    "            targets[freq] = np.array(sig_sin + sig_cos).T\n",
    "        return targets\n",
    "\n",
    "    def apply_cca(self, eeg):\n",
    "        \"\"\"Apply CCA analysis to EEG data and return scores for each target frequency\n",
    "\n",
    "        Args:\n",
    "            eeg (np.array): EEG array [n_samples, n_chan]\n",
    "\n",
    "        Returns:\n",
    "            list of scores for target frequencies\n",
    "        \"\"\"\n",
    "        scores = []\n",
    "        for key in self.train_data:\n",
    "            sig_c, t_c = self.cca.fit_transform(eeg, self.train_data[key])\n",
    "            scores.append(np.corrcoef(sig_c.T, t_c.T)[0, 1])\n",
    "        return scores"
   ]
  },
  {
   "cell_type": "code",
   "execution_count": 68,
   "metadata": {},
   "outputs": [],
   "source": [
    "def get_epoch_idxs(arr, s_rate, t_len):\n",
    "    result = []\n",
    "    current_subarray = [arr[0]]\n",
    "    \n",
    "    for i in range(1, len(arr)):\n",
    "        if arr[i] == arr[i-1] + 1:\n",
    "            current_subarray.append(arr[i])\n",
    "        else:\n",
    "            if len(current_subarray) > s_rate*t_len:\n",
    "                result.append(np.array(current_subarray[:int(s_rate*t_len)])) # cut off\n",
    "            current_subarray = [arr[i]]\n",
    "    \n",
    "    # result.append(current_subarray)\n",
    "    return result"
   ]
  },
  {
   "cell_type": "code",
   "execution_count": 64,
   "metadata": {},
   "outputs": [],
   "source": [
    "t_min = -1\n",
    "t_max = 6.\n",
    "event_freq = [5, 12]\n",
    "fs = 250\n",
    "\n",
    "t_win = [.25, .5, .75, 1, 1.25, 1.5, 2, 2.5, 3, 4, 6]\n",
    "# t_win = [2]\n",
    "\n",
    "predictions = {str(key): [] for key in t_win}\n",
    "accuracies = []\n",
    "\n",
    "for tmax in t_win:\n",
    "    cca = CCAAnalysis(freqs=event_freq, win_len=tmax, s_rate=250, n_harmonics=2)\n",
    "\n",
    "    epochs = []\n",
    "    idxs = []\n",
    "    groundtruth = []\n",
    "\n",
    "    for i in [1,2]:\n",
    "        idxs.append(get_epoch_idxs(np.where(y == i)[0], s_rate=fs, t_len=tmax))\n",
    "\n",
    "    for i in range(2):\n",
    "        for idx in idxs[i]:\n",
    "            epochs.append(eeg_data[idx])\n",
    "            groundtruth.append(np.mean(y[idx]))\n",
    "\n",
    "    for eeg_chunk in epochs:\n",
    "        scores = cca.apply_cca(eeg_chunk)\n",
    "        predictions[str(tmax)].append(np.argmax(scores))\n",
    "        \n",
    "    accuracies.append(\n",
    "        np.count_nonzero(np.array(predictions[str(tmax)]) + 1 == groundtruth) / len(predictions[str(tmax)]) * 100)"
   ]
  },
  {
   "cell_type": "code",
   "execution_count": 69,
   "metadata": {},
   "outputs": [
    {
     "data": {
      "text/plain": [
       "[42.857142857142854,\n",
       " 42.857142857142854,\n",
       " 42.857142857142854,\n",
       " 41.83673469387755,\n",
       " 41.83673469387755,\n",
       " 42.857142857142854,\n",
       " 42.857142857142854,\n",
       " 42.857142857142854,\n",
       " 44.89795918367347,\n",
       " 45.91836734693878,\n",
       " 47.88732394366197]"
      ]
     },
     "execution_count": 69,
     "metadata": {},
     "output_type": "execute_result"
    }
   ],
   "source": [
    "accuracies"
   ]
  },
  {
   "cell_type": "code",
   "execution_count": 56,
   "metadata": {},
   "outputs": [
    {
     "data": {
      "text/plain": [
       "[42.857142857142854,\n",
       " 42.857142857142854,\n",
       " 42.857142857142854,\n",
       " 41.83673469387755,\n",
       " 41.83673469387755,\n",
       " 42.857142857142854,\n",
       " 42.857142857142854,\n",
       " 42.857142857142854,\n",
       " 44.89795918367347,\n",
       " 45.91836734693878,\n",
       " 47.88732394366197]"
      ]
     },
     "execution_count": 56,
     "metadata": {},
     "output_type": "execute_result"
    }
   ],
   "source": [
    "accuracies"
   ]
  },
  {
   "cell_type": "markdown",
   "metadata": {},
   "source": [
    "# Time Frequency Analysis"
   ]
  },
  {
   "cell_type": "code",
   "execution_count": 70,
   "metadata": {},
   "outputs": [],
   "source": [
    "epochs = np.array(epochs)\n",
    "epochs = np.transpose(epochs , (0, 2, 1))\n",
    "\n",
    "groundtruth = np.array(groundtruth)"
   ]
  },
  {
   "cell_type": "code",
   "execution_count": 71,
   "metadata": {},
   "outputs": [
    {
     "data": {
      "text/plain": [
       "(71, 3, 1500)"
      ]
     },
     "execution_count": 71,
     "metadata": {},
     "output_type": "execute_result"
    }
   ],
   "source": [
    "epochs.shape"
   ]
  },
  {
   "cell_type": "code",
   "execution_count": 72,
   "metadata": {},
   "outputs": [
    {
     "data": {
      "image/png": "[encoded data removed]",
      "text/plain": [
       "<Figure size 640x480 with 7 Axes>"
      ]
     },
     "metadata": {},
     "output_type": "display_data"
    }
   ],
   "source": [
    "fs = 250\n",
    "freqs = np.arange(0.5, 20., .5)\n",
    "n_cycles = freqs\n",
    "\n",
    "times = np.linspace(0, 4, np.array(epochs).shape[2])\n",
    "\n",
    "power_1 = mne.time_frequency.tfr_array_morlet(epochs[np.where(groundtruth == 1.)[0], :, :], sfreq=fs,\n",
    "                                                freqs=freqs, n_cycles=n_cycles, zero_mean=True,\n",
    "                                                output='avg_power')\n",
    "power_2 = mne.time_frequency.tfr_array_morlet(epochs[np.where(groundtruth == 2.)[0], :, :], sfreq=fs,\n",
    "                                                freqs=freqs, n_cycles=n_cycles, zero_mean=True,\n",
    "                                                output='avg_power')\n",
    "\n",
    "mne.baseline.rescale(power_1, times, (None, 0), mode='mean', copy=False)\n",
    "mne.baseline.rescale(power_2, times, (None, 0), mode='mean', copy=False)\n",
    "\n",
    "power = np.stack([power_1, power_2])\n",
    "x, y = mne.viz.centers_to_edges(times, freqs)\n",
    "\n",
    "fig, ax = plt.subplots(n_channels, 2)\n",
    "for j in range(2):\n",
    "    for i in range(n_channels):\n",
    "        mesh = ax[i, j].pcolormesh(x, y, power[j, i], cmap='RdBu_r', vmin=-3500, vmax=1500)\n",
    "        # ax[i, j].set_title('TFR - ' + chan_name[i] + ' - ' + class_names[j])\n",
    "        ax[i, j].set(ylim=freqs[[0, -1]], xlabel='Time (s)', ylabel='Frequency (Hz)')\n",
    "plt.tight_layout()\n",
    "fig.subplots_adjust(right=0.8)\n",
    "cbar_ax = fig.add_axes([0.85, 0.15, 0.05, 0.7])\n",
    "fig.colorbar(mesh, cax=cbar_ax)\n",
    "plt.show()\n"
   ]
  },
  {
   "cell_type": "markdown",
   "metadata": {},
   "source": [
    "# Test on Dataset"
   ]
  },
  {
   "cell_type": "code",
   "execution_count": 30,
   "metadata": {},
   "outputs": [],
   "source": [
    "from sklearn.pipeline import make_pipeline\n",
    "\n",
    "import moabb\n",
    "from moabb.datasets import MAMEM3\n",
    "from moabb.evaluations import WithinSessionEvaluation\n",
    "from moabb.paradigms import SSVEP\n",
    "from moabb.pipelines import SSVEP_CCA\n",
    "\n",
    "\n",
    "# warnings.simplefilter(action=\"ignore\", category=FutureWarning)\n",
    "# warnings.simplefilter(action=\"ignore\", category=RuntimeWarning)\n",
    "moabb.set_log_level(\"info\")"
   ]
  },
  {
   "cell_type": "code",
   "execution_count": 31,
   "metadata": {},
   "outputs": [],
   "source": [
    "subj = [1, 3]\n",
    "dataset = MAMEM3()\n",
    "dataset.subject_list = subj"
   ]
  },
  {
   "cell_type": "code",
   "execution_count": 32,
   "metadata": {},
   "outputs": [
    {
     "name": "stderr",
     "output_type": "stream",
     "text": [
      "2024-07-14 17:09:30,742 WARNING MainThread moabb.paradigms.ssvep Choosing the first 3 classes from all possible events\n"
     ]
    }
   ],
   "source": [
    "paradigm = SSVEP(fmin=3, fmax=15, n_classes=3)"
   ]
  },
  {
   "cell_type": "code",
   "execution_count": 33,
   "metadata": {},
   "outputs": [],
   "source": [
    "interval = dataset.interval\n",
    "freqs = paradigm.used_events(dataset)\n",
    "\n",
    "pipeline = {}\n",
    "pipeline[\"CCA\"] = make_pipeline(SSVEP_CCA(interval=interval, freqs=freqs, n_harmonics=3))"
   ]
  },
  {
   "cell_type": "code",
   "execution_count": 34,
   "metadata": {},
   "outputs": [
    {
     "name": "stdout",
     "output_type": "stream",
     "text": [
      "MNE_DATA is not already configured. It will be set to default location in the home directory - /home/daniel/mne_data\n",
      "All datasets will be downloaded to this location, if anything is already downloaded, please move manually to this location\n"
     ]
    },
    {
     "name": "stderr",
     "output_type": "stream",
     "text": [
      "/home/daniel/mambaforge/envs/eeg-notebooks/lib/python3.9/site-packages/moabb/datasets/download.py:55: RuntimeWarning: Setting non-standard config type: \"MNE_DATASETS_MAMEM3_PATH\"\n",
      "  set_config(key, get_config(\"MNE_DATA\"))\n",
      "Downloading file '27901428' from 'https://ndownloader.figshare.com/files/27901428' to '/home/daniel/mne_data/MNE-mamem3-data'.\n",
      "Downloading file '27901431' from 'https://ndownloader.figshare.com/files/27901431' to '/home/daniel/mne_data/MNE-mamem3-data'.\n",
      "Downloading file '27901434' from 'https://ndownloader.figshare.com/files/27901434' to '/home/daniel/mne_data/MNE-mamem3-data'.\n",
      "Downloading file '27901437' from 'https://ndownloader.figshare.com/files/27901437' to '/home/daniel/mne_data/MNE-mamem3-data'.\n",
      "Downloading file '27901440' from 'https://ndownloader.figshare.com/files/27901440' to '/home/daniel/mne_data/MNE-mamem3-data'.\n",
      "Downloading file '27901443' from 'https://ndownloader.figshare.com/files/27901443' to '/home/daniel/mne_data/MNE-mamem3-data'.\n",
      "Downloading file '27901446' from 'https://ndownloader.figshare.com/files/27901446' to '/home/daniel/mne_data/MNE-mamem3-data'.\n",
      "Downloading file '27901449' from 'https://ndownloader.figshare.com/files/27901449' to '/home/daniel/mne_data/MNE-mamem3-data'.\n",
      "Downloading file '27901452' from 'https://ndownloader.figshare.com/files/27901452' to '/home/daniel/mne_data/MNE-mamem3-data'.\n",
      "Downloading file '27901455' from 'https://ndownloader.figshare.com/files/27901455' to '/home/daniel/mne_data/MNE-mamem3-data'.\n",
      "Downloading file '27901458' from 'https://ndownloader.figshare.com/files/27901458' to '/home/daniel/mne_data/MNE-mamem3-data'.\n",
      "/home/daniel/mambaforge/envs/eeg-notebooks/lib/python3.9/site-packages/moabb/datasets/preprocessing.py:279: UserWarning: warnEpochs <Epochs |  5 events (all good), 1 – 4 s, baseline off, ~236 kB, data loaded,\n",
      " '6.66': 3\n",
      " '7.50': 0\n",
      " '8.57': 2>\n",
      "  warn(f\"warnEpochs {epochs}\")\n",
      "/home/daniel/mambaforge/envs/eeg-notebooks/lib/python3.9/site-packages/moabb/datasets/preprocessing.py:279: UserWarning: warnEpochs <Epochs |  4 events (all good), 1 – 4 s, baseline off, ~194 kB, data loaded,\n",
      " '6.66': 1\n",
      " '7.50': 0\n",
      " '8.57': 3>\n",
      "  warn(f\"warnEpochs {epochs}\")\n",
      "/home/daniel/mambaforge/envs/eeg-notebooks/lib/python3.9/site-packages/moabb/datasets/preprocessing.py:279: UserWarning: warnEpochs <Epochs |  5 events (all good), 1 – 4 s, baseline off, ~236 kB, data loaded,\n",
      " '6.66': 3\n",
      " '7.50': 0\n",
      " '8.57': 2>\n",
      "  warn(f\"warnEpochs {epochs}\")\n",
      "/home/daniel/mambaforge/envs/eeg-notebooks/lib/python3.9/site-packages/moabb/datasets/preprocessing.py:279: UserWarning: warnEpochs <Epochs |  4 events (all good), 1 – 4 s, baseline off, ~194 kB, data loaded,\n",
      " '6.66': 1\n",
      " '7.50': 0\n",
      " '8.57': 3>\n",
      "  warn(f\"warnEpochs {epochs}\")\n",
      "/home/daniel/mambaforge/envs/eeg-notebooks/lib/python3.9/site-packages/moabb/datasets/preprocessing.py:279: UserWarning: warnEpochs <Epochs |  5 events (all good), 1 – 4 s, baseline off, ~236 kB, data loaded,\n",
      " '6.66': 3\n",
      " '7.50': 0\n",
      " '8.57': 2>\n",
      "  warn(f\"warnEpochs {epochs}\")\n",
      "/home/daniel/mambaforge/envs/eeg-notebooks/lib/python3.9/site-packages/moabb/datasets/preprocessing.py:279: UserWarning: warnEpochs <Epochs |  4 events (all good), 1 – 4 s, baseline off, ~194 kB, data loaded,\n",
      " '6.66': 1\n",
      " '7.50': 0\n",
      " '8.57': 3>\n",
      "  warn(f\"warnEpochs {epochs}\")\n",
      "/home/daniel/mambaforge/envs/eeg-notebooks/lib/python3.9/site-packages/moabb/datasets/preprocessing.py:279: UserWarning: warnEpochs <Epochs |  5 events (all good), 1 – 4 s, baseline off, ~236 kB, data loaded,\n",
      " '6.66': 3\n",
      " '7.50': 0\n",
      " '8.57': 2>\n",
      "  warn(f\"warnEpochs {epochs}\")\n",
      "/home/daniel/mambaforge/envs/eeg-notebooks/lib/python3.9/site-packages/moabb/datasets/preprocessing.py:279: UserWarning: warnEpochs <Epochs |  4 events (all good), 1 – 4 s, baseline off, ~194 kB, data loaded,\n",
      " '6.66': 1\n",
      " '7.50': 0\n",
      " '8.57': 3>\n",
      "  warn(f\"warnEpochs {epochs}\")\n",
      "/home/daniel/mambaforge/envs/eeg-notebooks/lib/python3.9/site-packages/moabb/datasets/preprocessing.py:279: UserWarning: warnEpochs <Epochs |  5 events (all good), 1 – 4 s, baseline off, ~236 kB, data loaded,\n",
      " '6.66': 3\n",
      " '7.50': 0\n",
      " '8.57': 2>\n",
      "  warn(f\"warnEpochs {epochs}\")\n",
      "/home/daniel/mambaforge/envs/eeg-notebooks/lib/python3.9/site-packages/moabb/datasets/preprocessing.py:279: UserWarning: warnEpochs <Epochs |  4 events (all good), 1 – 4 s, baseline off, ~194 kB, data loaded,\n",
      " '6.66': 1\n",
      " '7.50': 0\n",
      " '8.57': 3>\n",
      "  warn(f\"warnEpochs {epochs}\")\n",
      "/home/daniel/mambaforge/envs/eeg-notebooks/lib/python3.9/site-packages/sklearn/preprocessing/_function_transformer.py:394: FutureWarning: The current default of copy=False will change to copy=True in 1.7. Set the value of copy explicitly to avoid this warning\n",
      "  return func(X, **(kw_args if kw_args else {}))\n",
      "/home/daniel/mambaforge/envs/eeg-notebooks/lib/python3.9/site-packages/sklearn/preprocessing/_function_transformer.py:394: FutureWarning: The current default of copy=False will change to copy=True in 1.7. Set the value of copy explicitly to avoid this warning\n",
      "  return func(X, **(kw_args if kw_args else {}))\n",
      "/home/daniel/mambaforge/envs/eeg-notebooks/lib/python3.9/site-packages/sklearn/preprocessing/_function_transformer.py:394: FutureWarning: The current default of copy=False will change to copy=True in 1.7. Set the value of copy explicitly to avoid this warning\n",
      "  return func(X, **(kw_args if kw_args else {}))\n",
      "/home/daniel/mambaforge/envs/eeg-notebooks/lib/python3.9/site-packages/sklearn/preprocessing/_function_transformer.py:394: FutureWarning: The current default of copy=False will change to copy=True in 1.7. Set the value of copy explicitly to avoid this warning\n",
      "  return func(X, **(kw_args if kw_args else {}))\n",
      "/home/daniel/mambaforge/envs/eeg-notebooks/lib/python3.9/site-packages/sklearn/preprocessing/_function_transformer.py:394: FutureWarning: The current default of copy=False will change to copy=True in 1.7. Set the value of copy explicitly to avoid this warning\n",
      "  return func(X, **(kw_args if kw_args else {}))\n",
      "/home/daniel/mambaforge/envs/eeg-notebooks/lib/python3.9/site-packages/sklearn/preprocessing/_function_transformer.py:394: FutureWarning: The current default of copy=False will change to copy=True in 1.7. Set the value of copy explicitly to avoid this warning\n",
      "  return func(X, **(kw_args if kw_args else {}))\n",
      "/home/daniel/mambaforge/envs/eeg-notebooks/lib/python3.9/site-packages/sklearn/preprocessing/_function_transformer.py:394: FutureWarning: The current default of copy=False will change to copy=True in 1.7. Set the value of copy explicitly to avoid this warning\n",
      "  return func(X, **(kw_args if kw_args else {}))\n",
      "/home/daniel/mambaforge/envs/eeg-notebooks/lib/python3.9/site-packages/sklearn/preprocessing/_function_transformer.py:394: FutureWarning: The current default of copy=False will change to copy=True in 1.7. Set the value of copy explicitly to avoid this warning\n",
      "  return func(X, **(kw_args if kw_args else {}))\n",
      "/home/daniel/mambaforge/envs/eeg-notebooks/lib/python3.9/site-packages/sklearn/preprocessing/_function_transformer.py:394: FutureWarning: The current default of copy=False will change to copy=True in 1.7. Set the value of copy explicitly to avoid this warning\n",
      "  return func(X, **(kw_args if kw_args else {}))\n",
      "/home/daniel/mambaforge/envs/eeg-notebooks/lib/python3.9/site-packages/sklearn/preprocessing/_function_transformer.py:394: FutureWarning: The current default of copy=False will change to copy=True in 1.7. Set the value of copy explicitly to avoid this warning\n",
      "  return func(X, **(kw_args if kw_args else {}))\n"
     ]
    }
   ],
   "source": [
    "sessions = dataset.get_data(subjects=[3])\n",
    "X, labels, meta = paradigm.get_data(dataset=dataset, subjects=[3])"
   ]
  },
  {
   "cell_type": "code",
   "execution_count": 73,
   "metadata": {},
   "outputs": [
    {
     "data": {
      "text/plain": [
       "(45, 14, 385)"
      ]
     },
     "execution_count": 73,
     "metadata": {},
     "output_type": "execute_result"
    }
   ],
   "source": [
    "X.shape"
   ]
  },
  {
   "cell_type": "code",
   "execution_count": 75,
   "metadata": {},
   "outputs": [
    {
     "data": {
      "text/plain": [
       "array(['8.57', '6.66', '6.66', '8.57', '6.66', '8.57', '8.57', '6.66',\n",
       "       '8.57', '8.57', '6.66', '6.66', '8.57', '6.66', '8.57', '8.57',\n",
       "       '6.66', '8.57', '8.57', '6.66', '6.66', '8.57', '6.66', '8.57',\n",
       "       '8.57', '6.66', '8.57', '8.57', '6.66', '6.66', '8.57', '6.66',\n",
       "       '8.57', '8.57', '6.66', '8.57', '8.57', '6.66', '6.66', '8.57',\n",
       "       '6.66', '8.57', '8.57', '6.66', '8.57'], dtype='<U4')"
      ]
     },
     "execution_count": 75,
     "metadata": {},
     "output_type": "execute_result"
    }
   ],
   "source": [
    "labels"
   ]
  }
 ],
 "metadata": {
  "kernelspec": {
   "display_name": "eeg-notebooks",
   "language": "python",
   "name": "python3"
  },
  "language_info": {
   "codemirror_mode": {
    "name": "ipython",
    "version": 3
   },
   "file_extension": ".py",
   "mimetype": "text/x-python",
   "name": "python",
   "nbconvert_exporter": "python",
   "pygments_lexer": "ipython3",
   "version": "3.9.19"
  }
 },
 "nbformat": 4,
 "nbformat_minor": 2
}
